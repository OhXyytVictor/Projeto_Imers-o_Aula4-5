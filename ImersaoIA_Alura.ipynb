{
  "nbformat": 4,
  "nbformat_minor": 0,
  "metadata": {
    "colab": {
      "provenance": [],
      "toc_visible": true,
      "authorship_tag": "ABX9TyN0XtI0CYAQAISbfExmfiJK",
      "include_colab_link": true
    },
    "kernelspec": {
      "name": "python3",
      "display_name": "Python 3"
    },
    "language_info": {
      "name": "python"
    }
  },
  "cells": [
    {
      "cell_type": "markdown",
      "metadata": {
        "id": "view-in-github",
        "colab_type": "text"
      },
      "source": [
        "<a href=\"https://colab.research.google.com/github/OhXyytVictor/Projeto_Imersao_Aula4-5/blob/main/ImersaoIA_Alura.ipynb\" target=\"_parent\"><img src=\"https://colab.research.google.com/assets/colab-badge.svg\" alt=\"Open In Colab\"/></a>"
      ]
    },
    {
      "cell_type": "markdown",
      "source": [
        "# Nova seção"
      ],
      "metadata": {
        "id": "X3zanNfOkW6-"
      }
    },
    {
      "cell_type": "markdown",
      "source": [
        "Instalação e Importações"
      ],
      "metadata": {
        "id": "uyEQFoxbiOz-"
      }
    },
    {
      "cell_type": "code",
      "execution_count": 11,
      "metadata": {
        "id": "hArYfFauautC"
      },
      "outputs": [],
      "source": [
        "!pip install -q -U google-generativeai\n",
        "\n",
        "import google.generativeai as genai\n",
        "import random\n",
        "\n",
        "#!pip install -q -U google-generativeai: Instala a biblioteca do Google Generative AI.\n",
        "#import google.generativeai as genai: Importa a biblioteca para uso.\n",
        "#import random: Importa a biblioteca para gerar números aleatórios"
      ]
    },
    {
      "cell_type": "markdown",
      "source": [
        "Configuração da API"
      ],
      "metadata": {
        "id": "GwXlHMA6iTmf"
      }
    },
    {
      "cell_type": "code",
      "source": [
        "# Configure sua API Key aqui\n",
        "GOOGLE_API_KEY = \"insira sua API\"\n",
        "genai.configure(api_key=GOOGLE_API_KEY)\n",
        "\n",
        "model = genai.GenerativeModel(model_name='gemini-1.0-pro')\n",
        "\n",
        "#GOOGLE_API_KEY = \"YOUR_API_KEY\": Substitua YOUR_API_KEY pela sua chave de API real.\n",
        "#genai.configure(api_key=GOOGLE_API_KEY): Configura a biblioteca com sua chave de API.\n",
        "#model = genai.GenerativeModel(model_name='gemini-1.0-pro'): Inicializa o modelo de linguagem que será usado para gerar texto."
      ],
      "metadata": {
        "id": "rjP7moaEii3n"
      },
      "execution_count": 12,
      "outputs": []
    },
    {
      "cell_type": "markdown",
      "source": [
        "Introdução ao mundo\n"
      ],
      "metadata": {
        "id": "62mR0_fHyW4M"
      }
    },
    {
      "cell_type": "code",
      "source": [
        "# --- Introdução ao Mundo ---\n",
        "print(\"\"\"\n",
        "Bem-vindo ao mundo de Atheria!\n",
        "\n",
        "Atheria é um reino vasto e misterioso, repleto de florestas antigas, montanhas imponentes, rios sinuosos e cidades vibrantes.\n",
        "Mas cuidado, pois criaturas perigosas espreitam nas sombras, e segredos ancestrais aguardam para serem descobertos.\n",
        "\n",
        "Prepare-se para uma aventura épica!\n",
        "\"\"\")"
      ],
      "metadata": {
        "colab": {
          "base_uri": "https://localhost:8080/"
        },
        "id": "QTJ4vnYYyYWH",
        "outputId": "8c3a0c11-a24b-4f3a-b905-ade180b5d480"
      },
      "execution_count": 36,
      "outputs": [
        {
          "output_type": "stream",
          "name": "stdout",
          "text": [
            "\n",
            "Bem-vindo ao mundo de Atheria!\n",
            "\n",
            "Atheria é um reino vasto e misterioso, repleto de florestas antigas, montanhas imponentes, rios sinuosos e cidades vibrantes. \n",
            "Mas cuidado, pois criaturas perigosas espreitam nas sombras, e segredos ancestrais aguardam para serem descobertos.\n",
            "\n",
            "Prepare-se para uma aventura épica! \n",
            "\n"
          ]
        }
      ]
    },
    {
      "cell_type": "markdown",
      "source": [
        "Definição do Mundo do Jogo"
      ],
      "metadata": {
        "id": "iFIs5Ik4isU_"
      }
    },
    {
      "cell_type": "code",
      "source": [
        "# --- Definição do Mundo ---\n",
        "mundo = {\n",
        "    \"floresta\": {\n",
        "        \"descricao\": \"Uma floresta densa e antiga, com árvores gigantescas que bloqueiam a luz do sol, criando um ambiente sombrio e misterioso. O ar é denso com o cheiro de terra úmida e folhas em decomposição. Você ouve o canto distante de pássaros e o farfalhar de pequenos animais.\",\n",
        "        \"conexoes\": [\"clareira\", \"cabana\"],\n",
        "        \"itens\": [\"erva medicinal\", \"faca enferrujada\"]\n",
        "    },\n",
        "    \"clareira\": {\n",
        "        \"descricao\": \"Uma clareira ensolarada e florida, um contraste bem-vindo à escuridão da floresta. Um pequeno riacho cristalino atravessa a clareira, e você pode ouvir o som suave da água correndo. Flores silvestres de várias cores colorem o lugar, atraindo abelhas e borboletas.\",\n",
        "        \"conexoes\": [\"floresta\", \"caverna\", \"montanha\"],\n",
        "        \"itens\": [\"pedra estranha\", \"frutos silvestres\"]\n",
        "    },\n",
        "    \"caverna\": {\n",
        "        \"descricao\": \"Uma caverna escura e úmida, com um odor de mofo e terra. A entrada da caverna é parcialmente bloqueada por rochas, e você precisa se espremer para entrar. Lá dentro, a escuridão é quase total, exceto por alguns raios de luz que penetram por frestas no teto.\",\n",
        "        \"conexoes\": [\"clareira\"],\n",
        "        \"itens\": [\"tesouro\", \"corda\"]\n",
        "    },\n",
        "    \"cabana\": {\n",
        "        \"descricao\": \"Uma cabana abandonada, com tábuas de madeira apodrecendo e janelas quebradas. O telhado está parcialmente desabado, permitindo que a chuva entre. Móveis quebrados e utensílios enferrujados estão espalhados pelo chão, sugerindo que a cabana já foi habitada.\",\n",
        "        \"conexoes\": [\"floresta\"],\n",
        "        \"itens\": [\"lanterna\", \"mapa antigo\"]\n",
        "    },\n",
        "\n",
        "}\n",
        "\n",
        "#mundo: Um dicionário que define as áreas do jogo (floresta, clareira, caverna).\n",
        "#Cada área possui:\n",
        "#descricao: Texto que descreve a área.\n",
        "#conexoes: Lista de áreas conectadas a esta área.\n",
        "#itens: Lista de itens que podem ser encontrados nesta área."
      ],
      "metadata": {
        "id": "_XYg4S1Givqx"
      },
      "execution_count": 43,
      "outputs": []
    },
    {
      "cell_type": "markdown",
      "source": [
        "Funções do Jogo"
      ],
      "metadata": {
        "id": "X_gJNHPTi_JB"
      }
    },
    {
      "cell_type": "code",
      "source": [
        "# --- Funções do Jogo ---\n",
        "def criar_personagem():\n",
        "    nome = input(\"Qual o nome do seu personagem? \")\n",
        "    return {\"nome\": nome, \"localizacao\": \"floresta\", \"inventario\": []}\n",
        "\n",
        "def exibir_local(personagem):\n",
        "    local = mundo[personagem[\"localizacao\"]]\n",
        "    print(f\"Você está em: {local['descricao']}\")\n",
        "\n",
        "# Exibe as conexões (máximo de 2)\n",
        "    conexoes = local['conexoes'][:2]\n",
        "    for i, conexao in enumerate(conexoes):\n",
        "      print(f\"Lista de conexoes: {i+1}. {conexao}\")\n",
        "\n",
        "\n",
        "def mover(personagem, escolha):\n",
        "    local_atual = mundo[personagem[\"localizacao\"]]\n",
        "    conexoes = local_atual['conexoes']\n",
        "\n",
        "\n",
        "    if 1 <= escolha <= len(conexoes):\n",
        "        personagem[\"localizacao\"] = conexoes[escolha - 1]\n",
        "        exibir_local(personagem)\n",
        "    else:\n",
        "        print(\"Escolha inválida.\")\n",
        "\n",
        "def pegar_item(personagem):\n",
        "    local = mundo[personagem[\"localizacao\"]]\n",
        "    if local[\"itens\"]:\n",
        "        item = local[\"itens\"].pop(0)\n",
        "        personagem[\"inventario\"].append(item)\n",
        "        print(f\"Você pegou: {item}\")\n",
        "    else:\n",
        "        print(\"Não há nada para pegar aqui.\")\n",
        "\n",
        "def exibir_inventario(personagem):\n",
        "    print(\"Seu inventário:\")\n",
        "    for i, item in enumerate(personagem[\"inventario\"]):\n",
        "        print(f\"{i+1}. {item}\")\n",
        "\n",
        "def usar_item(personagem, escolha):\n",
        "    itens = personagem['inventario']\n",
        "\n",
        "    if 1 <= escolha <= len(itens):\n",
        "        item = itens[escolha - 1]\n",
        "        # Lógica de uso dos itens (adicionada!)\n",
        "        if item == \"erva medicinal\":\n",
        "            print(\"Você usou a erva medicinal para se curar. Você se sente revigorado!\")\n",
        "        elif item == \"pedra estranha\":\n",
        "            print(\"Você examina a pedra estranha, mas não sabe para que serve. Parece emanar uma leve energia.\")\n",
        "        elif item == \"lanterna\":\n",
        "            print(\"Você acende a lanterna, iluminando a área ao seu redor. As sombras recuam.\")\n",
        "        elif item == \"faca enferrujada\":\n",
        "            print(\"A faca está muito enferrujada para ser útil. Você a joga fora.\")\n",
        "            personagem[\"inventario\"].remove(\"faca enferrujada\")\n",
        "        elif item == \"frutos silvestres\":\n",
        "            print(\"Você come os frutos silvestres. Estão deliciosos e saciam sua fome!\")\n",
        "        elif item == \"corda\":\n",
        "            print(\"Você examina a corda. Parece resistente, pode ser útil para escalar ou amarrar algo.\")\n",
        "        elif item == \"mapa antigo\":\n",
        "            print(\"O mapa mostra a região da floresta e uma marcação 'X' em um local que parece ser a entrada da caverna.\")\n",
        "        elif item == \"pedra preciosa\":\n",
        "            print(\"A pedra preciosa brilha intensamente sob a luz do sol. Você a guarda cuidadosamente.\")\n",
        "        else:\n",
        "            print(f\"Você não sabe como usar {item} no momento.\")\n",
        "    else:\n",
        "        print(\"Escolha inválida.\")\n",
        "\n",
        "\n",
        " #criar_personagem(): Cria um dicionário que representa o personagem do jogador com nome, localização e inventário.\n",
        "#exibir_local(): Mostra a descrição da área onde o personagem está.\n",
        "#mover(): Permite o jogador mover o personagem para outra área, se houver conexão.\n",
        "#pegar_item(): Permite o jogador pegar um item da área atual, adicionando-o ao inventário.\n",
        "#exibir_inventario(): Mostra os itens no inventário do jogador.\n",
        "#usar_item(): Permite o jogador usar um item do inventário. Você precisa implementar a lógica de uso de cada item específico."
      ],
      "metadata": {
        "id": "CX310gnei-4p"
      },
      "execution_count": 46,
      "outputs": []
    },
    {
      "cell_type": "markdown",
      "source": [
        "Loop principal do jogo"
      ],
      "metadata": {
        "id": "X508HJ0rjRef"
      }
    },
    {
      "cell_type": "code",
      "source": [
        "# --- Loop principal do Jogo ---\n",
        "personagem = criar_personagem()\n",
        "exibir_local(personagem)\n",
        "\n",
        "while True:\n",
        "    acao = input(\"O que você deseja fazer? (mover, pegar, inventario, usar, sair) \").split()\n",
        "    comando = acao[0]\n",
        "\n",
        "    if comando == \"mover\":\n",
        "        exibir_local(personagem)\n",
        "        try:\n",
        "            escolha = int(input(\"Escolha para onde ir: \"))\n",
        "            mover(personagem, escolha)\n",
        "        except ValueError:\n",
        "            print(\"Digite um número válido.\")\n",
        "    elif comando == \"pegar\":\n",
        "        pegar_item(personagem)\n",
        "    elif comando == \"inventario\":\n",
        "        exibir_inventario(personagem)\n",
        "    elif comando == \"usar\":\n",
        "        exibir_inventario(personagem)\n",
        "        try:\n",
        "            escolha = int(input(\"Escolha o item para usar: \"))\n",
        "            usar_item(personagem, escolha)\n",
        "        except ValueError:\n",
        "            print(\"Digite um número válido.\")\n",
        "    elif comando == \"sair\":\n",
        "        break\n",
        "    else:\n",
        "        print(\"Comando inválido.\")\n",
        "\n",
        "#Cria o personagem do jogador.\n",
        "#Inicia um loop infinito que mantém o jogo rodando.\n",
        "#Lê a entrada do jogador para determinar a ação desejada (mover, pegar, inventario, usar, sair).\n",
        "#Chama a função apropriada de acordo com o comando do jogador.\n",
        "#O loop continua até o jogador digitar \"sair\"."
      ],
      "metadata": {
        "colab": {
          "base_uri": "https://localhost:8080/",
          "height": 1000
        },
        "id": "yC1xU4lRjUJz",
        "outputId": "76e2a639-bf4e-4ae6-dbf2-8ffbcc1e8474"
      },
      "execution_count": 47,
      "outputs": [
        {
          "output_type": "stream",
          "name": "stdout",
          "text": [
            "Qual o nome do seu personagem? Victor\n",
            "Você está em: Uma floresta densa e antiga, com árvores gigantescas que bloqueiam a luz do sol, criando um ambiente sombrio e misterioso. O ar é denso com o cheiro de terra úmida e folhas em decomposição. Você ouve o canto distante de pássaros e o farfalhar de pequenos animais.\n",
            "Lista de conexoes: 1. clareira\n",
            "Lista de conexoes: 2. cabana\n",
            "O que você deseja fazer? (mover, pegar, inventario, usar, sair) mover\n",
            "Você está em: Uma floresta densa e antiga, com árvores gigantescas que bloqueiam a luz do sol, criando um ambiente sombrio e misterioso. O ar é denso com o cheiro de terra úmida e folhas em decomposição. Você ouve o canto distante de pássaros e o farfalhar de pequenos animais.\n",
            "Lista de conexoes: 1. clareira\n",
            "Lista de conexoes: 2. cabana\n",
            "Escolha para onde ir: 1\n",
            "Você está em: Uma clareira ensolarada e florida, um contraste bem-vindo à escuridão da floresta. Um pequeno riacho cristalino atravessa a clareira, e você pode ouvir o som suave da água correndo. Flores silvestres de várias cores colorem o lugar, atraindo abelhas e borboletas.\n",
            "Lista de conexoes: 1. floresta\n",
            "Lista de conexoes: 2. caverna\n",
            "O que você deseja fazer? (mover, pegar, inventario, usar, sair) pegar\n",
            "Não há nada para pegar aqui.\n",
            "O que você deseja fazer? (mover, pegar, inventario, usar, sair) mover\n",
            "Você está em: Uma clareira ensolarada e florida, um contraste bem-vindo à escuridão da floresta. Um pequeno riacho cristalino atravessa a clareira, e você pode ouvir o som suave da água correndo. Flores silvestres de várias cores colorem o lugar, atraindo abelhas e borboletas.\n",
            "Lista de conexoes: 1. floresta\n",
            "Lista de conexoes: 2. caverna\n",
            "Escolha para onde ir: 1\n",
            "Você está em: Uma floresta densa e antiga, com árvores gigantescas que bloqueiam a luz do sol, criando um ambiente sombrio e misterioso. O ar é denso com o cheiro de terra úmida e folhas em decomposição. Você ouve o canto distante de pássaros e o farfalhar de pequenos animais.\n",
            "Lista de conexoes: 1. clareira\n",
            "Lista de conexoes: 2. cabana\n",
            "O que você deseja fazer? (mover, pegar, inventario, usar, sair) pegar\n",
            "Você pegou: faca enferrujada\n",
            "O que você deseja fazer? (mover, pegar, inventario, usar, sair) usar\n",
            "Seu inventário:\n",
            "1. faca enferrujada\n",
            "Escolha o item para usar: 1\n",
            "A faca está muito enferrujada para ser útil. Você a joga fora.\n",
            "O que você deseja fazer? (mover, pegar, inventario, usar, sair) mover\n",
            "Você está em: Uma floresta densa e antiga, com árvores gigantescas que bloqueiam a luz do sol, criando um ambiente sombrio e misterioso. O ar é denso com o cheiro de terra úmida e folhas em decomposição. Você ouve o canto distante de pássaros e o farfalhar de pequenos animais.\n",
            "Lista de conexoes: 1. clareira\n",
            "Lista de conexoes: 2. cabana\n",
            "Escolha para onde ir: 2\n",
            "Você está em: Uma cabana abandonada, com tábuas de madeira apodrecendo e janelas quebradas. O telhado está parcialmente desabado, permitindo que a chuva entre. Móveis quebrados e utensílios enferrujados estão espalhados pelo chão, sugerindo que a cabana já foi habitada.\n",
            "Lista de conexoes: 1. floresta\n",
            "O que você deseja fazer? (mover, pegar, inventario, usar, sair) pegar\n",
            "Você pegou: mapa antigo\n",
            "O que você deseja fazer? (mover, pegar, inventario, usar, sair) usar\n",
            "Seu inventário:\n",
            "1. mapa antigo\n",
            "Escolha o item para usar: 1\n",
            "O mapa mostra a região da floresta e uma marcação 'X' em um local que parece ser a entrada da caverna.\n",
            "O que você deseja fazer? (mover, pegar, inventario, usar, sair) mover\n",
            "Você está em: Uma cabana abandonada, com tábuas de madeira apodrecendo e janelas quebradas. O telhado está parcialmente desabado, permitindo que a chuva entre. Móveis quebrados e utensílios enferrujados estão espalhados pelo chão, sugerindo que a cabana já foi habitada.\n",
            "Lista de conexoes: 1. floresta\n",
            "Escolha para onde ir: 1\n",
            "Você está em: Uma floresta densa e antiga, com árvores gigantescas que bloqueiam a luz do sol, criando um ambiente sombrio e misterioso. O ar é denso com o cheiro de terra úmida e folhas em decomposição. Você ouve o canto distante de pássaros e o farfalhar de pequenos animais.\n",
            "Lista de conexoes: 1. clareira\n",
            "Lista de conexoes: 2. cabana\n",
            "O que você deseja fazer? (mover, pegar, inventario, usar, sair) mover\n",
            "Você está em: Uma floresta densa e antiga, com árvores gigantescas que bloqueiam a luz do sol, criando um ambiente sombrio e misterioso. O ar é denso com o cheiro de terra úmida e folhas em decomposição. Você ouve o canto distante de pássaros e o farfalhar de pequenos animais.\n",
            "Lista de conexoes: 1. clareira\n",
            "Lista de conexoes: 2. cabana\n",
            "Escolha para onde ir: 2\n",
            "Você está em: Uma cabana abandonada, com tábuas de madeira apodrecendo e janelas quebradas. O telhado está parcialmente desabado, permitindo que a chuva entre. Móveis quebrados e utensílios enferrujados estão espalhados pelo chão, sugerindo que a cabana já foi habitada.\n",
            "Lista de conexoes: 1. floresta\n",
            "O que você deseja fazer? (mover, pegar, inventario, usar, sair) mover\n",
            "Você está em: Uma cabana abandonada, com tábuas de madeira apodrecendo e janelas quebradas. O telhado está parcialmente desabado, permitindo que a chuva entre. Móveis quebrados e utensílios enferrujados estão espalhados pelo chão, sugerindo que a cabana já foi habitada.\n",
            "Lista de conexoes: 1. floresta\n",
            "Escolha para onde ir: 1\n",
            "Você está em: Uma floresta densa e antiga, com árvores gigantescas que bloqueiam a luz do sol, criando um ambiente sombrio e misterioso. O ar é denso com o cheiro de terra úmida e folhas em decomposição. Você ouve o canto distante de pássaros e o farfalhar de pequenos animais.\n",
            "Lista de conexoes: 1. clareira\n",
            "Lista de conexoes: 2. cabana\n",
            "O que você deseja fazer? (mover, pegar, inventario, usar, sair) mover\n",
            "Você está em: Uma floresta densa e antiga, com árvores gigantescas que bloqueiam a luz do sol, criando um ambiente sombrio e misterioso. O ar é denso com o cheiro de terra úmida e folhas em decomposição. Você ouve o canto distante de pássaros e o farfalhar de pequenos animais.\n",
            "Lista de conexoes: 1. clareira\n",
            "Lista de conexoes: 2. cabana\n",
            "Escolha para onde ir: 1\n",
            "Você está em: Uma clareira ensolarada e florida, um contraste bem-vindo à escuridão da floresta. Um pequeno riacho cristalino atravessa a clareira, e você pode ouvir o som suave da água correndo. Flores silvestres de várias cores colorem o lugar, atraindo abelhas e borboletas.\n",
            "Lista de conexoes: 1. floresta\n",
            "Lista de conexoes: 2. caverna\n",
            "O que você deseja fazer? (mover, pegar, inventario, usar, sair) mover\n",
            "Você está em: Uma clareira ensolarada e florida, um contraste bem-vindo à escuridão da floresta. Um pequeno riacho cristalino atravessa a clareira, e você pode ouvir o som suave da água correndo. Flores silvestres de várias cores colorem o lugar, atraindo abelhas e borboletas.\n",
            "Lista de conexoes: 1. floresta\n",
            "Lista de conexoes: 2. caverna\n",
            "Escolha para onde ir: 2\n",
            "Você está em: Uma caverna escura e úmida, com um odor de mofo e terra. A entrada da caverna é parcialmente bloqueada por rochas, e você precisa se espremer para entrar. Lá dentro, a escuridão é quase total, exceto por alguns raios de luz que penetram por frestas no teto.\n",
            "Lista de conexoes: 1. clareira\n",
            "O que você deseja fazer? (mover, pegar, inventario, usar, sair) pegar\n",
            "Você pegou: tesouro\n",
            "O que você deseja fazer? (mover, pegar, inventario, usar, sair) usar\n",
            "Seu inventário:\n",
            "1. mapa antigo\n",
            "2. tesouro\n",
            "Escolha o item para usar: 2\n",
            "Você não sabe como usar tesouro no momento.\n"
          ]
        },
        {
          "output_type": "error",
          "ename": "KeyboardInterrupt",
          "evalue": "Interrupted by user",
          "traceback": [
            "\u001b[0;31m---------------------------------------------------------------------------\u001b[0m",
            "\u001b[0;31mKeyboardInterrupt\u001b[0m                         Traceback (most recent call last)",
            "\u001b[0;32m<ipython-input-47-3aedd94c8aad>\u001b[0m in \u001b[0;36m<cell line: 5>\u001b[0;34m()\u001b[0m\n\u001b[1;32m      4\u001b[0m \u001b[0;34m\u001b[0m\u001b[0m\n\u001b[1;32m      5\u001b[0m \u001b[0;32mwhile\u001b[0m \u001b[0;32mTrue\u001b[0m\u001b[0;34m:\u001b[0m\u001b[0;34m\u001b[0m\u001b[0;34m\u001b[0m\u001b[0m\n\u001b[0;32m----> 6\u001b[0;31m     \u001b[0macao\u001b[0m \u001b[0;34m=\u001b[0m \u001b[0minput\u001b[0m\u001b[0;34m(\u001b[0m\u001b[0;34m\"O que você deseja fazer? (mover, pegar, inventario, usar, sair) \"\u001b[0m\u001b[0;34m)\u001b[0m\u001b[0;34m.\u001b[0m\u001b[0msplit\u001b[0m\u001b[0;34m(\u001b[0m\u001b[0;34m)\u001b[0m\u001b[0;34m\u001b[0m\u001b[0;34m\u001b[0m\u001b[0m\n\u001b[0m\u001b[1;32m      7\u001b[0m     \u001b[0mcomando\u001b[0m \u001b[0;34m=\u001b[0m \u001b[0macao\u001b[0m\u001b[0;34m[\u001b[0m\u001b[0;36m0\u001b[0m\u001b[0;34m]\u001b[0m\u001b[0;34m\u001b[0m\u001b[0;34m\u001b[0m\u001b[0m\n\u001b[1;32m      8\u001b[0m \u001b[0;34m\u001b[0m\u001b[0m\n",
            "\u001b[0;32m/usr/local/lib/python3.10/dist-packages/ipykernel/kernelbase.py\u001b[0m in \u001b[0;36mraw_input\u001b[0;34m(self, prompt)\u001b[0m\n\u001b[1;32m    849\u001b[0m                 \u001b[0;34m\"raw_input was called, but this frontend does not support input requests.\"\u001b[0m\u001b[0;34m\u001b[0m\u001b[0;34m\u001b[0m\u001b[0m\n\u001b[1;32m    850\u001b[0m             )\n\u001b[0;32m--> 851\u001b[0;31m         return self._input_request(str(prompt),\n\u001b[0m\u001b[1;32m    852\u001b[0m             \u001b[0mself\u001b[0m\u001b[0;34m.\u001b[0m\u001b[0m_parent_ident\u001b[0m\u001b[0;34m,\u001b[0m\u001b[0;34m\u001b[0m\u001b[0;34m\u001b[0m\u001b[0m\n\u001b[1;32m    853\u001b[0m             \u001b[0mself\u001b[0m\u001b[0;34m.\u001b[0m\u001b[0m_parent_header\u001b[0m\u001b[0;34m,\u001b[0m\u001b[0;34m\u001b[0m\u001b[0;34m\u001b[0m\u001b[0m\n",
            "\u001b[0;32m/usr/local/lib/python3.10/dist-packages/ipykernel/kernelbase.py\u001b[0m in \u001b[0;36m_input_request\u001b[0;34m(self, prompt, ident, parent, password)\u001b[0m\n\u001b[1;32m    893\u001b[0m             \u001b[0;32mexcept\u001b[0m \u001b[0mKeyboardInterrupt\u001b[0m\u001b[0;34m:\u001b[0m\u001b[0;34m\u001b[0m\u001b[0;34m\u001b[0m\u001b[0m\n\u001b[1;32m    894\u001b[0m                 \u001b[0;31m# re-raise KeyboardInterrupt, to truncate traceback\u001b[0m\u001b[0;34m\u001b[0m\u001b[0;34m\u001b[0m\u001b[0m\n\u001b[0;32m--> 895\u001b[0;31m                 \u001b[0;32mraise\u001b[0m \u001b[0mKeyboardInterrupt\u001b[0m\u001b[0;34m(\u001b[0m\u001b[0;34m\"Interrupted by user\"\u001b[0m\u001b[0;34m)\u001b[0m \u001b[0;32mfrom\u001b[0m \u001b[0;32mNone\u001b[0m\u001b[0;34m\u001b[0m\u001b[0;34m\u001b[0m\u001b[0m\n\u001b[0m\u001b[1;32m    896\u001b[0m             \u001b[0;32mexcept\u001b[0m \u001b[0mException\u001b[0m \u001b[0;32mas\u001b[0m \u001b[0me\u001b[0m\u001b[0;34m:\u001b[0m\u001b[0;34m\u001b[0m\u001b[0;34m\u001b[0m\u001b[0m\n\u001b[1;32m    897\u001b[0m                 \u001b[0mself\u001b[0m\u001b[0;34m.\u001b[0m\u001b[0mlog\u001b[0m\u001b[0;34m.\u001b[0m\u001b[0mwarning\u001b[0m\u001b[0;34m(\u001b[0m\u001b[0;34m\"Invalid Message:\"\u001b[0m\u001b[0;34m,\u001b[0m \u001b[0mexc_info\u001b[0m\u001b[0;34m=\u001b[0m\u001b[0;32mTrue\u001b[0m\u001b[0;34m)\u001b[0m\u001b[0;34m\u001b[0m\u001b[0;34m\u001b[0m\u001b[0m\n",
            "\u001b[0;31mKeyboardInterrupt\u001b[0m: Interrupted by user"
          ]
        }
      ]
    }
  ]
}